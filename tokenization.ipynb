{
 "cells": [
  {
   "cell_type": "code",
   "execution_count": 6,
   "id": "b7c88994",
   "metadata": {},
   "outputs": [],
   "source": [
    "import nltk"
   ]
  },
  {
   "cell_type": "code",
   "execution_count": 8,
   "id": "8e5e8e03",
   "metadata": {},
   "outputs": [],
   "source": [
    "paragraph='This is an natural language processing technique. We are going to perform tokenization'"
   ]
  },
  {
   "cell_type": "code",
   "execution_count": 9,
   "id": "f31e11c3",
   "metadata": {},
   "outputs": [
    {
     "data": {
      "text/plain": [
       "['This is an natural language processing technique.',\n",
       " 'We are going to perform tokenization']"
      ]
     },
     "execution_count": 9,
     "metadata": {},
     "output_type": "execute_result"
    }
   ],
   "source": [
    "nltk.sent_tokenize(paragraph)"
   ]
  },
  {
   "cell_type": "code",
   "execution_count": 10,
   "id": "a16aaf47",
   "metadata": {},
   "outputs": [
    {
     "data": {
      "text/plain": [
       "['This',\n",
       " 'is',\n",
       " 'an',\n",
       " 'natural',\n",
       " 'language',\n",
       " 'processing',\n",
       " 'technique',\n",
       " '.',\n",
       " 'We',\n",
       " 'are',\n",
       " 'going',\n",
       " 'to',\n",
       " 'perform',\n",
       " 'tokenization']"
      ]
     },
     "execution_count": 10,
     "metadata": {},
     "output_type": "execute_result"
    }
   ],
   "source": [
    "nltk.word_tokenize(paragraph)"
   ]
  }
 ],
 "metadata": {
  "kernelspec": {
   "display_name": "Python 3 (ipykernel)",
   "language": "python",
   "name": "python3"
  },
  "language_info": {
   "codemirror_mode": {
    "name": "ipython",
    "version": 3
   },
   "file_extension": ".py",
   "mimetype": "text/x-python",
   "name": "python",
   "nbconvert_exporter": "python",
   "pygments_lexer": "ipython3",
   "version": "3.9.6"
  }
 },
 "nbformat": 4,
 "nbformat_minor": 5
}
