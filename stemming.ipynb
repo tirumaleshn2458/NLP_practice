{
 "cells": [
  {
   "cell_type": "code",
   "execution_count": 15,
   "id": "0816a286",
   "metadata": {},
   "outputs": [],
   "source": [
    "#nltk- natural language library for tokenization\n",
    "import nltk\n",
    "#PorterStemmer is used for stemming the sentences.\n",
    "from nltk.stem import PorterStemmer\n",
    "#stopwords used to detect the words that are not useful.\n",
    "from nltk.corpus import stopwords"
   ]
  },
  {
   "cell_type": "code",
   "execution_count": 16,
   "id": "8aeac96b",
   "metadata": {},
   "outputs": [],
   "source": [
    "paragraph=\"\"\"I have three visions for India. In 3000 years of our history, people from all over \n",
    "               the world have come and invaded us, captured our lands, conquered our minds. \n",
    "               From Alexander onwards, the Greeks, the Turks, the Moguls, the Portuguese, the British,\n",
    "               the French, the Dutch, all of them came and looted us, took over what was ours. \n",
    "               Yet we have not done this to any other nation. We have not conquered anyone. \n",
    "               We have not grabbed their land, their culture, \n",
    "               their history and tried to enforce our way of life on them. \n",
    "               Why? Because we respect the freedom of others.That is why my \n",
    "               first vision is that of freedom. I believe that India got its first vision of \n",
    "               this in 1857, when we started the War of Independence. It is this freedom that\n",
    "               we must protect and nurture and build on. If we are not free, no one will respect us.\n",
    "               My second vision for India’s development. For fifty years we have been a developing nation.\n",
    "               It is time we see ourselves as a developed nation. We are among the top 5 nations of the world\n",
    "               in terms of GDP. We have a 10 percent growth rate in most areas. Our poverty levels are falling.\n",
    "               Our achievements are being globally recognised today. Yet we lack the self-confidence to\n",
    "               see ourselves as a developed nation, self-reliant and self-assured. Isn’t this incorrect?\n",
    "               I have a third vision. India must stand up to the world. Because I believe that unless India \n",
    "               stands up to the world, no one will respect us. Only strength respects strength. We must be \n",
    "               strong not only as a military power but also as an economic power. Both must go hand-in-hand. \n",
    "               My good fortune was to have worked with three great minds. Dr. Vikram Sarabhai of the Dept. of \n",
    "               space, Professor Satish Dhawan, who succeeded him and Dr. Brahm Prakash, father of nuclear material.\n",
    "               I was lucky to have worked with all three of them closely and consider this the great opportunity of my life. \n",
    "               I see four milestones in my career\"\"\""
   ]
  },
  {
   "cell_type": "code",
   "execution_count": 17,
   "id": "88465ba2",
   "metadata": {},
   "outputs": [],
   "source": [
    "#tokenizing the paragrahs into sentences.\n",
    "sentences=nltk.sent_tokenize(paragraph)\n",
    "#calling PorterStemmer \n",
    "stemmer=PorterStemmer()"
   ]
  },
  {
   "cell_type": "code",
   "execution_count": 18,
   "id": "16c1d814",
   "metadata": {},
   "outputs": [],
   "source": [
    "for i in range(len(sentences)):\n",
    "    #tokenizing the sentences to words\n",
    "    words=nltk.word_tokenize(sentences[i])\n",
    "    #listing the words that are not in set of stopwords in english language.\n",
    "    words=[stemmer.stem(word) for word in words if word in set(stopwords.words('english'))]\n",
    "    #joining the words into existing sentences.\n",
    "    sentences[i]=' '.join(words)"
   ]
  },
  {
   "cell_type": "code",
   "execution_count": 19,
   "id": "e9a566d4",
   "metadata": {},
   "outputs": [
    {
     "name": "stdout",
     "output_type": "stream",
     "text": [
      "['have for', 'of our from all over the have and our our', 'the the the the the the the all of them and over what wa our', 'we have not thi to ani other', 'have not', 'have not their their their and to our of on them', '', 'we the of is whi my is that of', 'that it of thi in when we the of', 'is thi that we and and on', 'we are not no will', 'for s', 'we have been a', 'is we ourselv as a', 'are the of the in of', 'have a in most', 'are', 'are be', 'we the to ourselv as a and', 't thi', 'have a', 'up to the', 'that up to the no will', '', 'be not onli as a but as an', '', 'wa to have with', 'of the', 'of who him and of', 'wa to have with all of them and thi the of my', 'in my']\n"
     ]
    }
   ],
   "source": [
    "print(sentences)"
   ]
  }
 ],
 "metadata": {
  "kernelspec": {
   "display_name": "Python 3 (ipykernel)",
   "language": "python",
   "name": "python3"
  },
  "language_info": {
   "codemirror_mode": {
    "name": "ipython",
    "version": 3
   },
   "file_extension": ".py",
   "mimetype": "text/x-python",
   "name": "python",
   "nbconvert_exporter": "python",
   "pygments_lexer": "ipython3",
   "version": "3.9.6"
  }
 },
 "nbformat": 4,
 "nbformat_minor": 5
}
