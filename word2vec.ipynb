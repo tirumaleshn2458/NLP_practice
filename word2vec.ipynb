{
 "cells": [
  {
   "cell_type": "markdown",
   "id": "c88cd5c8",
   "metadata": {},
   "source": [
    "# word2vec"
   ]
  },
  {
   "cell_type": "code",
   "execution_count": 22,
   "id": "b2a0c620",
   "metadata": {},
   "outputs": [],
   "source": [
    "import nltk\n",
    "from nltk.stem import WordNetLemmatizer\n",
    "from gensim.models import Word2Vec\n",
    "import re\n",
    "from nltk.corpus import stopwords"
   ]
  },
  {
   "cell_type": "code",
   "execution_count": 14,
   "id": "2e578fb1",
   "metadata": {},
   "outputs": [],
   "source": [
    "paragraph=\"\"\"I have three visions for India. In 3000 years of our history, people from all over \n",
    "               the world have come and invaded us, captured our lands, conquered our minds. \n",
    "               From Alexander onwards, the Greeks, the Turks, the Moguls, the Portuguese, the British,\n",
    "               the French, the Dutch, all of them came and looted us, took over what was ours. \n",
    "               Yet we have not done this to any other nation. We have not conquered anyone. \n",
    "               We have not grabbed their land, their culture, \n",
    "               their history and tried to enforce our way of life on them. \n",
    "               Why? Because we respect the freedom of others.That is why my \n",
    "               first vision is that of freedom. I believe that India got its first vision of \n",
    "               this in 1857, when we started the War of Independence. It is this freedom that\n",
    "               we must protect and nurture and build on. If we are not free, no one will respect us.\n",
    "               My second vision for India’s development. For fifty years we have been a developing nation.\n",
    "               It is time we see ourselves as a developed nation. We are among the top 5 nations of the world\n",
    "               in terms of GDP. We have a 10 percent growth rate in most areas. Our poverty levels are falling.\n",
    "               Our achievements are being globally recognised today. Yet we lack the self-confidence to\n",
    "               see ourselves as a developed nation, self-reliant and self-assured. Isn’t this incorrect?\n",
    "               I have a third vision. India must stand up to the world. Because I believe that unless India \n",
    "               stands up to the world, no one will respect us. Only strength respects strength. We must be \n",
    "               strong not only as a military power but also as an economic power. Both must go hand-in-hand. \n",
    "               My good fortune was to have worked with three great minds. Dr. Vikram Sarabhai of the Dept. of \n",
    "               space, Professor Satish Dhawan, who succeeded him and Dr. Brahm Prakash, father of nuclear material.\n",
    "               I was lucky to have worked with all three of them closely and consider this the great opportunity of my life. \n",
    "               I see four milestones in my career\"\"\""
   ]
  },
  {
   "cell_type": "code",
   "execution_count": 15,
   "id": "2c41707b",
   "metadata": {},
   "outputs": [],
   "source": [
    "text = re.sub(r'\\[[0-9]*\\]',' ',paragraph)\n",
    "text = re.sub(r'\\s+',' ',text)\n",
    "text = text.lower()\n",
    "text = re.sub(r'\\d',' ',text)\n",
    "text = re.sub(r'\\s+',' ',text)"
   ]
  },
  {
   "cell_type": "code",
   "execution_count": 18,
   "id": "0b0226a9",
   "metadata": {},
   "outputs": [],
   "source": [
    "lemmatizer=WordNetLemmatizer()"
   ]
  },
  {
   "cell_type": "code",
   "execution_count": 16,
   "id": "b4e5ca2d",
   "metadata": {},
   "outputs": [],
   "source": [
    "sentences=nltk.sent_tokenize(text)\n",
    "sentences=[nltk.word_tokenize(sentence) for sentence in sentences]"
   ]
  },
  {
   "cell_type": "code",
   "execution_count": 19,
   "id": "3c73504d",
   "metadata": {},
   "outputs": [],
   "source": [
    "for i in range(len(sentences)):\n",
    "    sentences[i]=[lemmatizer.lemmatize(word) for word in sentences[i] if word not in set(stopwords.words('english'))]"
   ]
  },
  {
   "cell_type": "code",
   "execution_count": 23,
   "id": "6c1baf5d",
   "metadata": {},
   "outputs": [],
   "source": [
    "model=Word2Vec(sentences,min_count=1)"
   ]
  },
  {
   "cell_type": "code",
   "execution_count": 30,
   "id": "8bef6dd8",
   "metadata": {},
   "outputs": [
    {
     "data": {
      "text/plain": [
       "array([-0.00775492, -0.00673764, -0.00314618,  0.00661798, -0.00082658,\n",
       "        0.0088593 , -0.00226013, -0.00523295,  0.00390252,  0.00220594,\n",
       "       -0.00030806, -0.00249319, -0.00599285,  0.00405642, -0.0076285 ,\n",
       "       -0.0088842 , -0.00913811,  0.00837058,  0.00399005,  0.00701329,\n",
       "        0.00991937, -0.0072237 ,  0.00402041,  0.00277445,  0.00615169,\n",
       "       -0.00337003,  0.00929667, -0.00582613,  0.00701548,  0.00694697,\n",
       "       -0.00037973,  0.00507602,  0.00665658,  0.00148644,  0.00734521,\n",
       "        0.00245682, -0.00147415,  0.0073888 ,  0.00469308, -0.00320369,\n",
       "        0.00164027, -0.00015958,  0.00495746, -0.00540959, -0.00414138,\n",
       "       -0.000952  ,  0.00382224, -0.00660591,  0.0078832 , -0.00305666,\n",
       "        0.00573344,  0.00284226,  0.00682771, -0.00446893, -0.0032097 ,\n",
       "        0.00306311, -0.00279149,  0.00596112, -0.00597836,  0.00259736,\n",
       "       -0.00071193, -0.00063608,  0.00254882, -0.0021782 , -0.0042647 ,\n",
       "       -0.00851627,  0.00249332,  0.00535075, -0.00589954,  0.00913628,\n",
       "        0.00402433, -0.00516169, -0.00129969,  0.00393252, -0.0069716 ,\n",
       "        0.00204855,  0.0054889 ,  0.00625374,  0.0054265 ,  0.00367759,\n",
       "       -0.00273931, -0.00609013,  0.00808063, -0.00727515, -0.00162951,\n",
       "       -0.00330364,  0.0065407 , -0.00624528,  0.00342927,  0.00208683,\n",
       "       -0.00407698, -0.00821729, -0.00801745,  0.00350521, -0.00950127,\n",
       "        0.00574162, -0.00288899, -0.00914744, -0.00512688,  0.00773368],\n",
       "      dtype=float32)"
      ]
     },
     "execution_count": 30,
     "metadata": {},
     "output_type": "execute_result"
    }
   ],
   "source": [
    "vector=model.wv['war']\n",
    "vector"
   ]
  },
  {
   "cell_type": "code",
   "execution_count": 31,
   "id": "fc026ce9",
   "metadata": {},
   "outputs": [],
   "source": [
    "similar_words=model.wv.most_similar('freedom')"
   ]
  },
  {
   "cell_type": "code",
   "execution_count": 32,
   "id": "72581dee",
   "metadata": {},
   "outputs": [
    {
     "data": {
      "text/plain": [
       "[('go', 0.3146536350250244),\n",
       " ('dutch', 0.3144703507423401),\n",
       " ('opportunity', 0.18730485439300537),\n",
       " ('vikram', 0.1838700920343399),\n",
       " ('conquered', 0.1830623894929886),\n",
       " ('prakash', 0.17469708621501923),\n",
       " ('four', 0.1738840639591217),\n",
       " ('vision', 0.1737448275089264),\n",
       " ('hand-in-hand', 0.17107169330120087),\n",
       " ('must', 0.16732622683048248)]"
      ]
     },
     "execution_count": 32,
     "metadata": {},
     "output_type": "execute_result"
    }
   ],
   "source": [
    "similar_words"
   ]
  }
 ],
 "metadata": {
  "kernelspec": {
   "display_name": "Python 3 (ipykernel)",
   "language": "python",
   "name": "python3"
  },
  "language_info": {
   "codemirror_mode": {
    "name": "ipython",
    "version": 3
   },
   "file_extension": ".py",
   "mimetype": "text/x-python",
   "name": "python",
   "nbconvert_exporter": "python",
   "pygments_lexer": "ipython3",
   "version": "3.9.6"
  }
 },
 "nbformat": 4,
 "nbformat_minor": 5
}
